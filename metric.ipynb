{
 "cells": [
  {
   "cell_type": "code",
   "execution_count": 1,
   "metadata": {},
   "outputs": [],
   "source": [
    "%load_ext autoreload\n",
    "%autoreload 2\n",
    "\n",
    "import pymc3 as pm\n",
    "import numpy as np\n",
    "import pandas as pd\n",
    "import theano\n",
    "import theano.tensor as tt\n",
    "import pickle\n",
    "import functools\n",
    "import itertools\n",
    "\n",
    "import matplotlib\n",
    "import matplotlib.pyplot as plt\n",
    "import matplotlib.cm as cm\n",
    "plt.style.use('seaborn')\n",
    "\n",
    "from model import GPTrendIndividualModel, GPTrendHierModel\n",
    "from util import dataset_from_df\n",
    "from analyse import metric1, metric2, metric_mse, metric_var\n",
    "\n",
    "pd.set_option('display.max_rows', 500)\n",
    "\n",
    "%matplotlib inline"
   ]
  },
  {
   "cell_type": "code",
   "execution_count": 2,
   "metadata": {},
   "outputs": [],
   "source": [
    "nut = ['STARCH', 'SUGAR', 'FIBC', 'FAT', 'PROT']\n",
    "user_profile = ['sex', 'age', 'height', 'weight', 'bmi']\n",
    "low, high = 0, 24*60"
   ]
  },
  {
   "cell_type": "markdown",
   "metadata": {},
   "source": [
    "# IC"
   ]
  },
  {
   "cell_type": "code",
   "execution_count": 6,
   "metadata": {},
   "outputs": [],
   "source": [
    "models = [\n",
    "#     'v12302145-nuts-sigHN01_softl0h0_ls10HN10_hv0_bhHN3_blHN3-I_wlN5_whN5-H_wlN5HN3_whN5HN1-joint-uspgp-pol0-ind-p13-ls-testday-days2-nostd-featlog-notime',\n",
    "    'v12302145-nuts-sigHN01_softl0h0_ls10HN10_hv0_bhHN3_blHN3-I_wlN5_whN5-H_wlN5HN3_whN5HN1-joint-uspgp-pol0-hier-p13-ls-testday-days2-nostd-featlog-notime',\n",
    "#     'v12302145-nuts-sigHN01_softl0h0_ls10HN10_hv0_bhHN3_blHN3-I_wlN5_whN5-H_wlN5HN3_whN5HN1-joint-uspgp-pol0-hier-p13-ls-testday-days2-nostd-featlog',\n",
    "#     'v12302145-nuts-sigHN01_softl0h0_ls10HN10_hv0_bhHN3_blHN3-I_wlN5_whN5-H_wlN5HN3_whN5HN1-joint-uspgp-pol0-hier-p13-ls-testday-days2-nostd-featlog-cov',\n",
    "    'v12302145-nuts-sigHN01_softl0h0_ls10HN10_hv0_bhHN3_blHN3-I_wlN5_whN5-H_wlN5HN3_whN5HN1-joint-uspgp-pol0-hier-p13-ls-testday-days2-nostd-featlog-cov0.05',\n",
    "]\n",
    "cmp_dict = {}\n",
    "for mn in models:\n",
    "    name = ','.join(['hier' if 'hier' in mn else 'ind',\n",
    "                 '' if 'notime' in mn else 'time',\n",
    "                 'd1' if 'days1' in mn else '',\n",
    "                 'cov' if 'cov' in mn else '',\n",
    "                ])\n",
    "    store = pickle.load(open('trace/{}.pkl'.format(mn), 'rb'))\n",
    "    m = store['model']\n",
    "    trace = store['trace']\n",
    "    m.model.name = name\n",
    "    cmp_dict[m.model] = trace"
   ]
  },
  {
   "cell_type": "code",
   "execution_count": 7,
   "metadata": {},
   "outputs": [
    {
     "name": "stderr",
     "output_type": "stream",
     "text": [
      "/u/67/zhangg1/unix/.local/lib/python3.6/site-packages/pymc3/stats.py:162: FutureWarning: arrays to stack must be passed as a \"sequence\" type such as list or tuple. Support for non-sequence iterables such as generators is deprecated as of NumPy 1.16 and will raise an error in the future.\n",
      "  return np.stack(logp)\n",
      "/u/67/zhangg1/unix/.local/lib/python3.6/site-packages/pymc3/stats.py:292: UserWarning: Estimated shape parameter of Pareto distribution is\n",
      "        greater than 0.7 for one or more samples.\n",
      "        You should consider using a more robust model, this is because\n",
      "        importance sampling is less likely to work well if the marginal\n",
      "        posterior and LOO posterior are very different. This is more likely to\n",
      "        happen with a non-robust model and highly influential observations.\n",
      "  happen with a non-robust model and highly influential observations.\"\"\")\n"
     ]
    },
    {
     "data": {
      "text/html": [
       "<div>\n",
       "<style scoped>\n",
       "    .dataframe tbody tr th:only-of-type {\n",
       "        vertical-align: middle;\n",
       "    }\n",
       "\n",
       "    .dataframe tbody tr th {\n",
       "        vertical-align: top;\n",
       "    }\n",
       "\n",
       "    .dataframe thead th {\n",
       "        text-align: right;\n",
       "    }\n",
       "</style>\n",
       "<table border=\"1\" class=\"dataframe\">\n",
       "  <thead>\n",
       "    <tr style=\"text-align: right;\">\n",
       "      <th></th>\n",
       "      <th>LOO</th>\n",
       "      <th>pLOO</th>\n",
       "      <th>dLOO</th>\n",
       "      <th>weight</th>\n",
       "      <th>SE</th>\n",
       "      <th>dSE</th>\n",
       "      <th>shape_warn</th>\n",
       "    </tr>\n",
       "  </thead>\n",
       "  <tbody>\n",
       "    <tr>\n",
       "      <th>hier,time,,cov</th>\n",
       "      <td>2994.98</td>\n",
       "      <td>465.47</td>\n",
       "      <td>0</td>\n",
       "      <td>0.91</td>\n",
       "      <td>333.7</td>\n",
       "      <td>0</td>\n",
       "      <td>1</td>\n",
       "    </tr>\n",
       "    <tr>\n",
       "      <th>hier,,,</th>\n",
       "      <td>3587.87</td>\n",
       "      <td>214.62</td>\n",
       "      <td>592.89</td>\n",
       "      <td>0.09</td>\n",
       "      <td>317.28</td>\n",
       "      <td>227.51</td>\n",
       "      <td>1</td>\n",
       "    </tr>\n",
       "  </tbody>\n",
       "</table>\n",
       "</div>"
      ],
      "text/plain": [
       "                    LOO    pLOO    dLOO weight      SE     dSE shape_warn\n",
       "hier,time,,cov  2994.98  465.47       0   0.91   333.7       0          1\n",
       "hier,,,         3587.87  214.62  592.89   0.09  317.28  227.51          1"
      ]
     },
     "execution_count": 7,
     "metadata": {},
     "output_type": "execute_result"
    }
   ],
   "source": [
    "# cov0.05\n",
    "df_comp_WAIC = pm.compare(cmp_dict, ic='LOO')\n",
    "df_comp_WAIC"
   ]
  },
  {
   "cell_type": "code",
   "execution_count": 5,
   "metadata": {
    "scrolled": false
   },
   "outputs": [
    {
     "name": "stderr",
     "output_type": "stream",
     "text": [
      "/home/zhangg1/.local/lib/python3.6/site-packages/pymc3/stats.py:292: UserWarning: Estimated shape parameter of Pareto distribution is\n",
      "        greater than 0.7 for one or more samples.\n",
      "        You should consider using a more robust model, this is because\n",
      "        importance sampling is less likely to work well if the marginal\n",
      "        posterior and LOO posterior are very different. This is more likely to\n",
      "        happen with a non-robust model and highly influential observations.\n",
      "  happen with a non-robust model and highly influential observations.\"\"\")\n"
     ]
    },
    {
     "data": {
      "text/html": [
       "<div>\n",
       "<style scoped>\n",
       "    .dataframe tbody tr th:only-of-type {\n",
       "        vertical-align: middle;\n",
       "    }\n",
       "\n",
       "    .dataframe tbody tr th {\n",
       "        vertical-align: top;\n",
       "    }\n",
       "\n",
       "    .dataframe thead th {\n",
       "        text-align: right;\n",
       "    }\n",
       "</style>\n",
       "<table border=\"1\" class=\"dataframe\">\n",
       "  <thead>\n",
       "    <tr style=\"text-align: right;\">\n",
       "      <th></th>\n",
       "      <th>LOO</th>\n",
       "      <th>pLOO</th>\n",
       "      <th>dLOO</th>\n",
       "      <th>weight</th>\n",
       "      <th>SE</th>\n",
       "      <th>dSE</th>\n",
       "      <th>shape_warn</th>\n",
       "    </tr>\n",
       "  </thead>\n",
       "  <tbody>\n",
       "    <tr>\n",
       "      <th>hier,time,,</th>\n",
       "      <td>2869.91</td>\n",
       "      <td>342.24</td>\n",
       "      <td>0</td>\n",
       "      <td>0.25</td>\n",
       "      <td>265.09</td>\n",
       "      <td>0</td>\n",
       "      <td>1</td>\n",
       "    </tr>\n",
       "    <tr>\n",
       "      <th>hier,time,,cov</th>\n",
       "      <td>2948.41</td>\n",
       "      <td>419.88</td>\n",
       "      <td>78.5</td>\n",
       "      <td>0.67</td>\n",
       "      <td>350.12</td>\n",
       "      <td>114.86</td>\n",
       "      <td>1</td>\n",
       "    </tr>\n",
       "    <tr>\n",
       "      <th>ind,,,</th>\n",
       "      <td>3549.64</td>\n",
       "      <td>246.55</td>\n",
       "      <td>679.74</td>\n",
       "      <td>0</td>\n",
       "      <td>318.8</td>\n",
       "      <td>193.02</td>\n",
       "      <td>1</td>\n",
       "    </tr>\n",
       "    <tr>\n",
       "      <th>hier,,,</th>\n",
       "      <td>3587.87</td>\n",
       "      <td>214.62</td>\n",
       "      <td>717.96</td>\n",
       "      <td>0.08</td>\n",
       "      <td>317.28</td>\n",
       "      <td>194.7</td>\n",
       "      <td>1</td>\n",
       "    </tr>\n",
       "  </tbody>\n",
       "</table>\n",
       "</div>"
      ],
      "text/plain": [
       "                    LOO    pLOO    dLOO weight      SE     dSE shape_warn\n",
       "hier,time,,     2869.91  342.24       0   0.25  265.09       0          1\n",
       "hier,time,,cov  2948.41  419.88    78.5   0.67  350.12  114.86          1\n",
       "ind,,,          3549.64  246.55  679.74      0   318.8  193.02          1\n",
       "hier,,,         3587.87  214.62  717.96   0.08  317.28   194.7          1"
      ]
     },
     "execution_count": 5,
     "metadata": {},
     "output_type": "execute_result"
    }
   ],
   "source": [
    "df_comp_WAIC = pm.compare(cmp_dict, ic='LOO')\n",
    "df_comp_WAIC"
   ]
  },
  {
   "cell_type": "markdown",
   "metadata": {},
   "source": [
    "# U-test"
   ]
  },
  {
   "cell_type": "code",
   "execution_count": null,
   "metadata": {},
   "outputs": [],
   "source": [
    "from scipy.stats import mannwhitneyu\n",
    "\n",
    "\n",
    "def get_mse_samples(model_file, delay=False, nppc=100):\n",
    "    print(model_file)\n",
    "    \n",
    "    delay = delay and not 'notime' in model_file\n",
    "    \n",
    "    store = pickle.load(open('trace/{}.pkl'.format(model_file), 'rb'))\n",
    "    store_ppc = pickle.load(open('trace/{}_ppc.pkl'.format(model_file), 'rb'))\n",
    "\n",
    "    ids = store['ids']\n",
    "    m = store['model']\n",
    "    trace = store['trace']\n",
    "    ppc = store_ppc['ppc']\n",
    "    \n",
    "    if delay:\n",
    "        ppc_delay = m.predict(trace, nppc, suffix='delay', test_only=True, delay=True)\n",
    "\n",
    "    samples = []\n",
    "    for i, id_ in enumerate(ids):\n",
    "        trend_t = ppc['trend_test{}{}'.format('', i)]\n",
    "        if delay:\n",
    "            tr_t = ppc_delay['treated_test{}{}'.format(i,'delay')]\n",
    "        else:\n",
    "            tr_t = ppc['treated_test{}'.format(i)]\n",
    "        \n",
    "        samples.append([metric_mse(m.yt[i], trend_t[j], tr_t[j], m.tt[i], m.txt[i], window=(60,180), active=False, realtime=False) \n",
    "                        for j in range(nppc)])\n",
    "        \n",
    "    return samples"
   ]
  },
  {
   "cell_type": "code",
   "execution_count": null,
   "metadata": {},
   "outputs": [],
   "source": [
    "# Lognormal cov0.05\n",
    "models = [\n",
    "    'v12302145-nuts-sigHN01_softl0h0_ls10HN10_hv0_bhHN3_blHN3-I_wlN5_whN5-H_wlN5HN3_whN5HN1-joint-uspgp-pol0-hier-p13-ls-testday-days2-nostd-featlog-cov0.05',\n",
    "    'v12302145-nuts-sigHN01_softl0h0_ls10HN10_hv0_bhHN3_blHN3-I_wlN5_whN5-H_wlN5HN3_whN5HN1-joint-uspgp-pol0-hier-p13-ls-testday-days2-nostd-featlog',\n",
    "]\n",
    "model_tar = 'v12302145-nuts-sigHN01_softl0h0_ls10HN10_hv0_bhHN3_blHN3-I_wlN5_whN5-H_wlN5HN3_whN5HN1-joint-uspgp-pol0-hier-p13-ls-testday-days2-nostd-featlog-notime'\n",
    "delay = False"
   ]
  },
  {
   "cell_type": "code",
   "execution_count": null,
   "metadata": {},
   "outputs": [],
   "source": [
    "samples_tar = get_mse_samples(model_tar, delay)\n",
    "sam_tar = np.mean(np.array(samples_tar), axis=0)\n",
    "\n",
    "\n",
    "PVs = {}\n",
    "for mf in models:\n",
    "    samples = get_mse_samples(mf, delay=delay)\n",
    "    sam = np.mean(np.array(samples), axis=0)\n",
    "    pv = mannwhitneyu(sam_tar, sam, use_continuity=False, alternative='greater')[1]\n",
    "\n",
    "    print(mf, pv)"
   ]
  },
  {
   "cell_type": "markdown",
   "metadata": {},
   "source": [
    "# Metric"
   ]
  },
  {
   "cell_type": "code",
   "execution_count": 76,
   "metadata": {},
   "outputs": [],
   "source": [
    "models = [\n",
    "    'v12302145-nuts-sigHN01_softl0h0_ls10HN10_hv0_bhHN3_blHN3-I_wlN5_whN5-H_wlN5HN3_whN5HN1-joint-uspgp-pol0-ind-p13-ls-testday-days2-nostd-featlog-notime',\n",
    "    'v12302145-nuts-sigHN01_softl0h0_ls10HN10_hv0_bhHN3_blHN3-I_wlN5_whN5-H_wlN5HN3_whN5HN1-joint-uspgp-pol0-hier-p13-ls-testday-days2-nostd-featlog-notime',\n",
    "    'v12302145-nuts-sigHN01_softl0h0_ls10HN10_hv0_bhHN3_blHN3-I_wlN5_whN5-H_wlN5HN3_whN5HN1-joint-uspgp-pol0-hier-p13-ls-testday-days2-nostd-featlog-cov',    \n",
    "    'v12302145-nuts-sigHN01_softl0h0_ls10HN10_hv0_bhHN3_blHN3-I_wlN5_whN5-H_wlN5HN3_whN5HN1-joint-uspgp-pol0-hier-p13-ls-testday-days2-nostd-featlog',\n",
    "]\n",
    "delay = False\n",
    "mse_select = True"
   ]
  },
  {
   "cell_type": "code",
   "execution_count": 10,
   "metadata": {},
   "outputs": [
    {
     "name": "stderr",
     "output_type": "stream",
     "text": [
      "/work/modules/Ubuntu/14.04/amd64/common/anaconda3/latest/lib/python3.6/site-packages/numpy/core/fromnumeric.py:56: FutureWarning: Series.nonzero() is deprecated and will be removed in a future version.Use Series.to_numpy().nonzero() instead\n",
      "  return getattr(obj, method)(*args, **kwds)\n",
      "100%|██████████| 100/100 [03:51<00:00,  1.82s/it]\n"
     ]
    }
   ],
   "source": [
    "mtbl = pd.DataFrame()\n",
    "for mf_ in models:\n",
    "    M1, M2, M3, M4, M5 = [], [], [], [], []\n",
    "    name = ','.join(['hier' if 'hier' in mf_ else 'ind',\n",
    "                     '' if 'notime' in mf_ else 'time',\n",
    "                     #'^2' if 'poly2' in mf_ else '',\n",
    "                     'd1' if 'days1' in mf_ else '',\n",
    "                     'cov' if 'cov' in mf_ else '',\n",
    "                    ])\n",
    "    \n",
    "    #for mf in [mf_, mf_.replace('testp01', 'testday')]:\n",
    "    for mf in [mf_]:\n",
    "        store = pickle.load(open('trace/{}.pkl'.format(mf), 'rb'))\n",
    "        store_ppc = pickle.load(open('trace/{}_ppc.pkl'.format(mf), 'rb'))\n",
    "\n",
    "        ids = store['ids']\n",
    "        dfs = store['dfs']\n",
    "        data = [dataset_from_df(df, nut) for df in dfs]\n",
    "        prof = np.vstack([get_user_profile(df, user_profile) for df in dfs])\n",
    "\n",
    "        t_s = np.linspace(low, high*3, 500)\n",
    "\n",
    "        m = store['model']\n",
    "        trace = store['trace']\n",
    "        ppc = store_ppc['ppc']\n",
    "        #trends = store_ppc['trends']\n",
    "        if delay and 'time' in name:\n",
    "            ppc_delay = m.predict(trace, 100, suffix='delay', test_only=True, delay=True)\n",
    "\n",
    "        for i, id_ in enumerate(ids):\n",
    "            trend = ppc['trend{}{}'.format('', i)].mean(axis=0)\n",
    "            trend_t = ppc['trend_test{}{}'.format('', i)].mean(axis=0)\n",
    "            tr = ppc['treated{}{}'.format('', i)].mean(axis=0)\n",
    "            if delay and 'time' in name:\n",
    "                tr_t = ppc_delay['treated_test{}{}'.format(i,'delay')].mean(axis=0)\n",
    "            else:\n",
    "                tr_t = ppc['treated_test{}'.format(i)].mean(axis=0)\n",
    "\n",
    "            M1.append(metric1(m.y[i], trend, tr))\n",
    "            M2.append(metric2(m.y[i], trend, tr))\n",
    "            M3.append(metric_mse(m.y[i], trend, tr, m.t[i], m.tx[i], window=None, active=False, realtime=False))\n",
    "            M4.append(metric_mse(m.yt[i], trend_t, tr_t, m.tt[i], m.txt[i], window=(60,180), active=False, realtime=False))\n",
    "            M5.append(metric_var(m.yt[i], trend_t, tr_t, m.tt[i], m.txt[i], window=(60,180)))\n",
    "    \n",
    "    if mse_select:\n",
    "        idx_mse = np.array(M2) > 0.1\n",
    "    else:\n",
    "        idx_mse = np.array(M2) > 0.\n",
    "\n",
    "    M1.append(np.mean(M1))\n",
    "    M2.append(np.mean(M2))\n",
    "    M3.append(np.mean(M3))\n",
    "    M4.append(np.mean(np.array(M4)[idx_mse]))\n",
    "    M5.append(np.mean(np.array(M5)[idx_mse]))\n",
    "    mtbl[name] = M1 + M2 + M3 + M4 + M5\n",
    "    \n",
    "mtbl['ID'] = (ids.tolist()+['Ave']) * 5 # Caution! Only works in notebooks\n",
    "n = len(ids)+1\n",
    "# mtbl.index = ['V(trd-y)/V(trd)']*n + ['V(tr)/V(trd-y)']*n + ['MSE']*n + ['Future MSE']*n\n",
    "mtbl.index = ['V(trd)/V(y)']*n + ['V(trd+tr)/V(y)-M1']*n + ['MSE']*n + ['Future MSE']*n + ['Future Var%']*n"
   ]
  },
  {
   "cell_type": "code",
   "execution_count": null,
   "metadata": {},
   "outputs": [],
   "source": [
    "mtbl"
   ]
  },
  {
   "cell_type": "code",
   "execution_count": null,
   "metadata": {},
   "outputs": [],
   "source": [
    "# with open('metric.tex','w') as tf:\n",
    "#     tf.write(mtbl.to_latex())"
   ]
  }
 ],
 "metadata": {
  "kernelspec": {
   "display_name": "Python 3",
   "language": "python",
   "name": "python3"
  },
  "language_info": {
   "codemirror_mode": {
    "name": "ipython",
    "version": 3
   },
   "file_extension": ".py",
   "mimetype": "text/x-python",
   "name": "python",
   "nbconvert_exporter": "python",
   "pygments_lexer": "ipython3",
   "version": "3.6.8"
  },
  "toc": {
   "base_numbering": 1,
   "nav_menu": {},
   "number_sections": true,
   "sideBar": true,
   "skip_h1_title": false,
   "title_cell": "Table of Contents",
   "title_sidebar": "Contents",
   "toc_cell": false,
   "toc_position": {
    "height": "calc(100% - 180px)",
    "left": "10px",
    "top": "150px",
    "width": "228.438px"
   },
   "toc_section_display": true,
   "toc_window_display": true
  }
 },
 "nbformat": 4,
 "nbformat_minor": 2
}
